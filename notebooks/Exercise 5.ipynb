{
 "cells": [
  {
   "cell_type": "markdown",
   "metadata": {},
   "source": [
    "# Exercise 5 - Classification Algorithms (BBNN & SVM)"
   ]
  },
  {
   "cell_type": "markdown",
   "metadata": {},
   "source": [
    "## a) Back Propogation Neural Network"
   ]
  },
  {
   "cell_type": "markdown",
   "metadata": {
    "tags": []
   },
   "source": [
    "### Program 1 - Implementing BPNN from scratch"
   ]
  },
  {
   "cell_type": "markdown",
   "metadata": {},
   "source": [
    "#### AIM\n",
    "To implement Back Propogation Neural Network from scratch in python."
   ]
  },
  {
   "cell_type": "markdown",
   "metadata": {},
   "source": [
    "#### ALGORITHM\n",
    "##### Forward propogation\n",
    "###### Single input\n",
    "$$\n",
    "\\newcommand{\\vect}[1]{\\boldsymbol{\\mathbf{#1}}}\n",
    "\\begin{align*}\n",
    "\\vect{o}_{-1} &= \\vect{x}_i\\\\\n",
    "\\vect{o}_k &= \\vect{\\phi}_k\\left(\\vect{W}_k[1 \\ \\vect{o}_{k-1}]\\right) &\\text{for }k = 0,..,n-1\n",
    "\\end{align*}\n",
    "$$\n",
    "###### Batch input\n",
    "$$\n",
    "\\newcommand{\\vect}[1]{\\boldsymbol{\\mathbf{#1}}}\n",
    "\\begin{align*}\n",
    "\\vect{O}_{-1} &= \\vect{X}\\\\\n",
    "\\vect{O}_k &= \\vect{\\phi}_k\\left([\\vect{1} \\ \\vect{O}_{k-1}] \\vect{W}_k^T \\right) &\\text{for }k = 0,..,n-1\n",
    "\\end{align*}\n",
    "$$\n",
    "\n",
    "where  \n",
    "$\\vect{x}_k$ - the input vector  \n",
    "$\\vect{o}_k$ - the output vector of the $k$th layer  \n",
    "$\\vect{W}_k$ - the weight matrix of the $k$th layer\n",
    "$\\vect{X}_k$ - the batch input matfix  \n",
    "$\\vect{O}_k$ - the batch output matrix of the $k$th layer  "
   ]
  },
  {
   "cell_type": "markdown",
   "metadata": {},
   "source": [
    "##### Backward Propogation\n",
    "###### Error\n",
    "$$\n",
    "E = \\frac{1}{2}||\\vect{o}_{n-1}-\\vect{t}||_2\n",
    "$$\n",
    "###### Single input\n",
    "$$\n",
    "\\newcommand{\\diff}[2]{\\frac{\\mathrm{d}{#1}}{\\mathrm{d}{#2}}}\n",
    "\\vect{\\delta}_{k} = \\diff{E}{\\vect{o}_{k}}\\circ \\vect{\\phi}'(\\text{net}_{k} )\\\\\n",
    "$$\n",
    "\n",
    "$$\n",
    "\\begin{gather*}\n",
    "\\diff{E}{\\vect{o}_{n-1}} = (\\vect{o}_{n-1}-\\vect{t})  \n",
    "& \\diff{E}{\\vect{o}_{k}} = \\vect{W}^T_{k+1}\\vect{o}_{k+1},\\ \\text{for } k = n-2,...,-1 \\\\\n",
    "\\end{gather*}\n",
    "$$\n",
    "\n",
    "$$\n",
    "\\vect{\\phi}'(\\text{net}_{k}) = \\vect{o}_k \\circ (\\vect{1}-\\vect{o}_k),\\ \\text{for } k = n-1,...,0 \\\\\n",
    "$$\n",
    "Therefore,\n",
    "$$\n",
    "\\vect{\\delta}_{n-1} = (\\vect{o}_{n-1}-\\vect{t}) \\circ \\vect{o}_{n-1} \\circ (\\vect{1}-\\vect{o}_{n-1})\\\\\n",
    "\\vect{\\delta}_{k} = \\vect{W}^T_{k+1}\\vect{o}_{k+1} \\circ \\vect{o}_k \\circ (\\vect{1}-\\vect{o}_k),\\ \\text{for } k = n-1,...,0 \\\\\\\\\n",
    "$$"
   ]
  },
  {
   "cell_type": "markdown",
   "metadata": {},
   "source": [
    "###### Weight Update\n",
    "$$\n",
    "\\vect{W}_k := \\vect{W}_k - \\alpha \\diff{E}{\\vect{W}_k}\\\\\n",
    "\\diff{E}{\\vect{W}_k} = \\vect{\\delta}_{k}[1 \\ \\vect{o}_{k-1}]^T,\\ \\text{for } k = n-1,...,0 \\\\\n",
    "$$"
   ]
  },
  {
   "cell_type": "markdown",
   "metadata": {},
   "source": [
    "#### Part 1 - Defining class for BPNN"
   ]
  },
  {
   "cell_type": "code",
   "execution_count": 1,
   "metadata": {},
   "outputs": [],
   "source": [
    "import numpy as np\n",
    "import pandas as pd"
   ]
  },
  {
   "cell_type": "code",
   "execution_count": 2,
   "metadata": {},
   "outputs": [],
   "source": [
    "class BPNN:\n",
    "    def __init__(self,layer_sizes):\n",
    "        self.layer_sizes = layer_sizes\n",
    "        self.n = len(layer_sizes)-1\n",
    "        self.outputs = [None]*(self.n+1)\n",
    "        self.delta = [None]*self.n\n",
    "        \n",
    "    def error(self,predicted, actual):\n",
    "        error = actual-predicted\n",
    "        return error @ error.T\n",
    "    \n",
    "    def activation(self,x):\n",
    "        return 1/(1+np.exp(-x))\n",
    "    \n",
    "    def d_activation(self,x):\n",
    "         return x * (1 - x)\n",
    "    \n",
    "    def pad_ones(X):\n",
    "        pad_width = [(0,0)]*(X.ndim-1) +[(1,0)]\n",
    "        return np.pad(X,pad_width=pad_width,constant_values=1)\n",
    "    \n",
    "    def inputs(self,i):\n",
    "        return BPNN.pad_ones(self.outputs[i-1])\n",
    "    \n",
    "    def set_random_weights(self,seed=1):\n",
    "        np.random.seed(seed)\n",
    "        self.weights = [\n",
    "            (np.random.random((o,i+1))-1)*2\n",
    "            for i,o in zip(self.layer_sizes,self.layer_sizes[1:])\n",
    "        ]\n",
    "\n",
    "    def forward_propagate(self, inputs):\n",
    "        assert (self.weights is not None),\"weights not given\"\n",
    "        self.outputs[-1] = inputs\n",
    "        for i in range(self.n):\n",
    "            self.outputs[i] = self.activation(\n",
    "                self.inputs(i) @ self.weights[i].T\n",
    "            )\n",
    "        return self.outputs[self.n-1]\n",
    "\n",
    "    def backward_propagate_error(self, expected):\n",
    "        for i in range(self.n-1, -1, -1):\n",
    "            if i == self.n-1:\n",
    "                errors = self.outputs[i] - expected\n",
    "            else:\n",
    "                errors = self.delta[i+1] @ self.weights[i+1][:,1:] \n",
    "            self.delta[i] = errors * self.d_activation(self.outputs[i])\n",
    "\n",
    "    def update_weights(self, l_rate):\n",
    "        for i in range(self.n):\n",
    "            self.weights[i] -= l_rate * self.delta[i].T @ self.inputs(i)\n",
    "\n",
    "    def fit(self, X_train,y_train, l_rate, n_epoch,batch_size=10,verbose=True):\n",
    "        classes = np.unique(y_train)\n",
    "        expected = (y_train.reshape(-1,1) == classes).astype(np.uint8)\n",
    "        m = X_train.shape[0]\n",
    "        for epoch in range(n_epoch):\n",
    "            sum_error = 0\n",
    "            b_idx = np.arange(0,m+batch_size,batch_size)\n",
    "            for f,t in zip(b_idx,b_idx[1:]):\n",
    "                outputs = self.forward_propagate(X_train[f:t])\n",
    "                sum_error += np.sum(self.error(outputs, expected[f:t]))\n",
    "                self.backward_propagate_error(expected[f:t])\n",
    "                self.update_weights(l_rate)\n",
    "            if verbose:\n",
    "                print(f'>epoch={epoch}, lrate={l_rate:.3},'\n",
    "                      f' error={sum_error/m:.5f}')\n",
    "\n",
    "    def predict(self, inputs):\n",
    "        outputs = self.forward_propagate(inputs).argmax(axis=-1)\n",
    "        return outputs\n",
    "\n",
    "    def accuracy(self,X_test,y_test):\n",
    "        return (self.predict(X_test)==y_test).mean()"
   ]
  },
  {
   "cell_type": "markdown",
   "metadata": {},
   "source": [
    "#### Part 2 - Loading and processing dataset"
   ]
  },
  {
   "cell_type": "code",
   "execution_count": 3,
   "metadata": {},
   "outputs": [],
   "source": [
    "titanic_df = pd.read_csv(\"datasets/titanic_processed.csv\")\n",
    "X = titanic_df.drop('Survived',axis = 1).values\n",
    "y = titanic_df['Survived'].values\n",
    "split_ratio = 0.8\n",
    "s = int(split_ratio*X.shape[0])\n",
    "X_train, X_test = X[:s],X[s:]\n",
    "y_train, y_test = y[:s],y[s:]"
   ]
  },
  {
   "cell_type": "markdown",
   "metadata": {},
   "source": [
    "#### Part 3 - Implementing BPNN"
   ]
  },
  {
   "cell_type": "code",
   "execution_count": 4,
   "metadata": {},
   "outputs": [
    {
     "name": "stdout",
     "output_type": "stream",
     "text": [
      "\n",
      "Initial Weights:\n",
      "\n",
      "[[-0.45735871 -1.9584961  -0.73270353 -0.50239223 -1.00298598 -1.55040671\n",
      "  -1.60387427 -0.47893858 -1.66177833]\n",
      " [-1.82332037 -0.62928036 -0.09321331 -1.99210347 -0.97561547 -0.37475808\n",
      "  -0.77494787 -0.55648937 -1.41624786]\n",
      " [-0.16445175 -0.57084843 -0.91491126 -1.7156599  -1.25331848 -0.65173277\n",
      "  -1.11633365 -1.13197201 -0.76446604]\n",
      " [-0.97372351 -0.69920564 -0.79792209 -0.38955361 -0.9567057  -0.18270224\n",
      "  -1.36152782 -1.8190813  -1.39859989]\n",
      " [-1.77203128 -0.34263735 -1.90620736 -0.7474257  -0.90482769 -0.36142601\n",
      "  -1.60210492 -0.2862994  -1.29669472]]\n",
      "[[-0.49070462 -1.40807659 -0.23212704 -1.34897672 -1.6699682  -1.21494151]\n",
      " [-1.81307925 -0.35778868 -1.69769596 -1.2317711  -0.11147858 -0.02474905]]\n",
      "\n",
      "Training:\n",
      "\n",
      ">epoch=0, lrate=0.5, error=1.69117\n",
      ">epoch=1, lrate=0.5, error=1.37732\n",
      ">epoch=2, lrate=0.5, error=3.52303\n",
      ">epoch=3, lrate=0.5, error=3.94931\n",
      ">epoch=4, lrate=0.5, error=2.96108\n",
      ">epoch=5, lrate=0.5, error=2.18476\n",
      ">epoch=6, lrate=0.5, error=2.45861\n",
      ">epoch=7, lrate=0.5, error=0.61641\n",
      ">epoch=8, lrate=0.5, error=0.80873\n",
      ">epoch=9, lrate=0.5, error=0.80676\n",
      ">epoch=10, lrate=0.5, error=0.87458\n",
      ">epoch=11, lrate=0.5, error=0.80815\n",
      ">epoch=12, lrate=0.5, error=1.38558\n",
      ">epoch=13, lrate=0.5, error=1.00095\n",
      ">epoch=14, lrate=0.5, error=0.48489\n",
      ">epoch=15, lrate=0.5, error=0.40810\n",
      ">epoch=16, lrate=0.5, error=0.31605\n",
      ">epoch=17, lrate=0.5, error=0.86799\n",
      ">epoch=18, lrate=0.5, error=0.34783\n",
      ">epoch=19, lrate=0.5, error=0.26775\n",
      "\n",
      "Trained Weights:\n",
      "\n",
      "[[ 0.15348029 -3.42379779 -0.494201   -0.83565711 -0.97240527 -1.25959886\n",
      "  -3.62421497 -0.25779861 -2.36672185]\n",
      " [-2.30248019 -1.13888237 -0.2694626  -2.05418717 -1.03504623 -0.46979429\n",
      "  -0.68184121 -0.5988329  -1.49462021]\n",
      " [ 8.35923712 -3.85038293  1.16995351 -0.1683304  -1.17801726  1.15267045\n",
      "  -7.11297914  1.3646486   0.97000407]\n",
      " [ 1.50626535 -4.60484124  0.07601527 -2.12358039  0.83442624  0.91512263\n",
      "  -7.584022   -0.95350535 -2.29754736]\n",
      " [ 2.70268175 -0.48804986 -1.0443292  -0.58051028 -0.34624764  0.50256775\n",
      "  -6.79854928  1.37623898 -2.5825079 ]]\n",
      "[[ 1.26054533 -1.64451571 -0.50866543 -4.16952984 -2.09107345 -1.98899701]\n",
      " [-1.25955267  0.47363533 -1.30168848  4.17925228  2.03770872  1.98671474]]\n",
      "\n",
      "Evaluation:\n",
      "Acuracy of the classifier:  0.8314606741573034\n"
     ]
    }
   ],
   "source": [
    "b = BPNN([8,5,2])\n",
    "b.set_random_weights(10)\n",
    "print(\"\\nInitial Weights:\\n\")\n",
    "print(*b.weights,sep=\"\\n\")\n",
    "print(\"\\nTraining:\\n\")\n",
    "b.fit(X_train,y_train,l_rate=.5, n_epoch=20, batch_size=50)\n",
    "print(\"\\nTrained Weights:\\n\")\n",
    "print(*b.weights,sep=\"\\n\")\n",
    "print(\"\\nEvaluation:\")\n",
    "print(\"Acuracy of the classifier: \",b.accuracy(X_test,y_test))"
   ]
  },
  {
   "cell_type": "markdown",
   "metadata": {},
   "source": [
    "## b) Support Vector Machine"
   ]
  },
  {
   "cell_type": "markdown",
   "metadata": {},
   "source": [
    "### Program 1 - Implementing SVM from scratch using CVXOPT"
   ]
  },
  {
   "cell_type": "markdown",
   "metadata": {},
   "source": [
    "#### AIM\n",
    "To implement SVM from scratch using CVXOPT."
   ]
  },
  {
   "cell_type": "markdown",
   "metadata": {},
   "source": [
    "#### Formula\n",
    "##### SVM statement in dual form\n",
    "$$\n",
    "\\newcommand{\\vect}[1]{\\boldsymbol{\\mathbf{#1}}}\n",
    "\\begin{aligned}\n",
    "    & \\min_{\\vect{\\alpha}}  \\frac{1}{2}  \\vect{\\alpha}^T  \\left( \\vect{y}\\vect{y}^T \\circ (\\Phi(\\vect{X})\\Phi(\\vect{X})^T \\right)  \\vect{\\alpha} - \\vect{1}^T \\vect{\\alpha}\\\\\n",
    "s.t.&  - \\alpha_i \\leq 0 \\\\\n",
    "    & \\alpha_i \\leq C\\\\\n",
    "    & y^T \\vect{\\alpha} = 0  \n",
    "\\end{aligned}\n",
    "$$"
   ]
  },
  {
   "cell_type": "markdown",
   "metadata": {},
   "source": [
    "##### Standard form of a quadratic program\n",
    "$$\n",
    "\\begin{aligned}\n",
    "    & \\min_{\\vect{x}}  \\frac{1}{2}  \\vect{x}^T  \\vect{P}  \\vect{x} - \\vect{q}^T\\vect{x}\\\\\n",
    "s.t.&  \\vect{G}\\vect{x} \\leq \\vect{h} \\\\\n",
    "    & A \\vect{x} = \\vect{b} \n",
    "\\end{aligned}\n",
    "$$"
   ]
  },
  {
   "cell_type": "markdown",
   "metadata": {},
   "source": [
    "##### Formulization\n",
    "$$\n",
    "\\begin{align*}\n",
    "\\vect{P}&= \\vect{y}\\vect{y}^T \\circ \\Phi(\\vect{X})\\Phi(\\vect{X})^T\n",
    "& \\vect{q}&= - \\vect{1}_n\\\\\n",
    "\\vect{G}&= \\begin{bmatrix}\n",
    "    \\vect{-I}_n\\\\\n",
    "    \\vect{I}_n\n",
    "\\end{bmatrix} \n",
    "& \\vect{h}&=\\begin{bmatrix}\n",
    "    C \\cdot \\vect{1}_n^T\\\\\n",
    "    \\vect{0}_n^T\n",
    "\\end{bmatrix}\\\\\n",
    "\\vect{A} &= [\\vect{y}] \n",
    "&\\vect{b} &= [0]\\\\\n",
    "\\end{align*}\n",
    "$$"
   ]
  },
  {
   "cell_type": "markdown",
   "metadata": {},
   "source": [
    "##### Decision Rule\n",
    "$$\n",
    "\\vect{\\hat y} = \\mathrm{sign}\\left( (\\vect{\\alpha}^T \\circ \\vect{y}^T) \\Phi(\\vect{X})\\Phi(\\vect{X})^T  + b \\right) \n",
    "$$"
   ]
  },
  {
   "cell_type": "markdown",
   "metadata": {},
   "source": [
    "#### Part 1 - Defining class for SVM"
   ]
  },
  {
   "cell_type": "code",
   "execution_count": 5,
   "metadata": {},
   "outputs": [],
   "source": [
    "import numpy as np\n",
    "import pandas as pd\n",
    "\n",
    "from sklearn.model_selection import train_test_split\n",
    "from sklearn.preprocessing import StandardScaler\n",
    "from sklearn.metrics import accuracy_score\n",
    "\n",
    "from cvxopt import solvers\n",
    "from cvxopt import matrix\n",
    "\n",
    "from scipy.spatial.distance import cdist"
   ]
  },
  {
   "cell_type": "code",
   "execution_count": 6,
   "metadata": {},
   "outputs": [],
   "source": [
    "class SVM:\n",
    "    def __init__(self,C,kernel):\n",
    "        self.C = C\n",
    "        self.kernel = kernel\n",
    "\n",
    "    def fit(self,X_train,y_train):\n",
    "        self.scaler = StandardScaler()\n",
    "        self.X = self.scaler.fit_transform(X_train)\n",
    "        self.y = y_train.reshape(-1,1)\n",
    "        \n",
    "        n=self.X.shape[0]\n",
    "        I_n = np.eye(n)\n",
    "        P=(self.y@self.y.T)*self.kernel(self.X,self.X)\n",
    "        q=np.full(n,-1)\n",
    "        G=np.vstack((I_n,-1*I_n))\n",
    "        h=np.hstack((np.full(n,self.C),np.zeros(n)))\n",
    "        A=y_train.reshape(1,-1)\n",
    "        b=np.zeros(1)\n",
    "\n",
    "        P,q,G,h,A,b = map(lambda x : matrix(x,tc=\"d\"),(P,q,G,h,A,b))\n",
    "\n",
    "        solution = solvers.qp(P, q, G, h, A, b)\n",
    "        self.a = np.asarray(solution['x']).squeeze()\n",
    "        \n",
    "        support_indices = np.logical_and(self.a>=1e-10, self.a<self.C)\n",
    "        X_S = self.X[support_indices]\n",
    "        self.b = np.mean(self.y - self.a*self.y.T @ self.kernel(self.X, X_S))\n",
    "\n",
    "    def predict(self,X_test):\n",
    "        X_test=self.scaler.transform(X_test)\n",
    "        return np.sign(self.a*self.y.T @ self.kernel(self.X, X_test) + self.b)\n"
   ]
  },
  {
   "cell_type": "markdown",
   "metadata": {},
   "source": [
    "#### Part 2 - Defining Radial Basis Function(RBF) Kernel"
   ]
  },
  {
   "cell_type": "code",
   "execution_count": 7,
   "metadata": {},
   "outputs": [],
   "source": [
    "def rbf_kernel(X1,X2,sigma):\n",
    "    return np.exp(-cdist(X1, X2, 'sqeuclidean') / (2*sigma**2))"
   ]
  },
  {
   "cell_type": "markdown",
   "metadata": {},
   "source": [
    "#### Part 3 - Loading and Processing Dataset"
   ]
  },
  {
   "cell_type": "code",
   "execution_count": 8,
   "metadata": {},
   "outputs": [],
   "source": [
    "titanic_df = pd.read_csv('datasets/titanic_processed.csv')\n",
    "X = titanic_df.drop('Survived',axis = 1).values\n",
    "y = titanic_df['Survived'].values\n",
    "y[y==0] = -1\n",
    "X_train, X_test, y_train, y_test = train_test_split(X, y, test_size=0.2, random_state=0)"
   ]
  },
  {
   "cell_type": "markdown",
   "metadata": {},
   "source": [
    "#### Part 4 - Implementing SVM"
   ]
  },
  {
   "cell_type": "code",
   "execution_count": 9,
   "metadata": {},
   "outputs": [
    {
     "name": "stdout",
     "output_type": "stream",
     "text": [
      "     pcost       dcost       gap    pres   dres\n",
      " 0: -2.0672e+02 -6.0489e+02  6e+03  8e+00  1e-15\n",
      " 1: -1.0821e+02 -5.1411e+02  6e+02  3e-01  1e-15\n",
      " 2: -1.0989e+02 -1.6099e+02  5e+01  9e-03  2e-15\n",
      " 3: -1.2250e+02 -1.3135e+02  9e+00  1e-03  1e-15\n",
      " 4: -1.2441e+02 -1.2830e+02  4e+00  4e-04  1e-15\n",
      " 5: -1.2525e+02 -1.2680e+02  2e+00  1e-04  1e-15\n",
      " 6: -1.2558e+02 -1.2625e+02  7e-01  7e-06  1e-15\n",
      " 7: -1.2572e+02 -1.2596e+02  2e-01  9e-07  1e-15\n",
      " 8: -1.2577e+02 -1.2588e+02  1e-01  4e-07  1e-15\n",
      " 9: -1.2578e+02 -1.2586e+02  8e-02  2e-07  9e-16\n",
      "10: -1.2580e+02 -1.2582e+02  2e-02  2e-08  1e-15\n",
      "11: -1.2581e+02 -1.2581e+02  6e-03  6e-09  1e-15\n",
      "12: -1.2581e+02 -1.2581e+02  3e-03  1e-09  1e-15\n",
      "13: -1.2581e+02 -1.2581e+02  9e-04  3e-10  9e-16\n",
      "14: -1.2581e+02 -1.2581e+02  3e-04  9e-11  1e-15\n",
      "15: -1.2581e+02 -1.2581e+02  2e-05  4e-15  1e-15\n",
      "Optimal solution found.\n",
      "Accuracy of the classifer: 73.03%\n"
     ]
    }
   ],
   "source": [
    "from functools import partial \n",
    "C = .35\n",
    "sigma = .5\n",
    "kernel = partial(rbf_kernel,sigma=sigma)\n",
    "\n",
    "svm_classifier = SVM(C,kernel)\n",
    "svm_classifier.fit(X_train,y_train)\n",
    "y_pred = svm_classifier.predict(X_test)\n",
    "print(f'Accuracy of the classifer: {(y_test == y_pred).mean()*100:.2f}%')\n"
   ]
  }
 ],
 "metadata": {
  "interpreter": {
   "hash": "7023248c40563a766f3ae9a0fc81476c1e46277ee22e162240a9cb41b674a272"
  },
  "kernelspec": {
   "display_name": "Python 3",
   "language": "python",
   "name": "python3"
  },
  "language_info": {
   "codemirror_mode": {
    "name": "ipython",
    "version": 3
   },
   "file_extension": ".py",
   "mimetype": "text/x-python",
   "name": "python",
   "nbconvert_exporter": "python",
   "pygments_lexer": "ipython3",
   "version": "3.8.10"
  }
 },
 "nbformat": 4,
 "nbformat_minor": 4
}
