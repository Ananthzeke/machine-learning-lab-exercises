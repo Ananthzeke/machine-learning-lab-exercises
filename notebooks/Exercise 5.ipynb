{
 "cells": [
  {
   "cell_type": "markdown",
   "metadata": {},
   "source": [
    "# Exercise 5 - Classification Algorithms (BBNN & SVM)"
   ]
  },
  {
   "cell_type": "markdown",
   "metadata": {},
   "source": [
    "## a) Back Propogation Neural Network"
   ]
  },
  {
   "cell_type": "markdown",
   "metadata": {},
   "source": [
    "### Program 1 - Implementing BPNN from scratch"
   ]
  },
  {
   "cell_type": "markdown",
   "metadata": {},
   "source": [
    "#### Part 1 - Defining class for BPNN"
   ]
  },
  {
   "cell_type": "code",
   "execution_count": 1,
   "metadata": {},
   "outputs": [],
   "source": [
    "import yaml\n",
    "import numpy as np"
   ]
  },
  {
   "cell_type": "code",
   "execution_count": 2,
   "metadata": {},
   "outputs": [],
   "source": [
    "def load_yaml(filename):\n",
    "    with open(filename, 'r') as f:\n",
    "        contents = yaml.full_load(f)\n",
    "    return contents"
   ]
  },
  {
   "cell_type": "code",
   "execution_count": 3,
   "metadata": {},
   "outputs": [],
   "source": [
    "class BPNN:\n",
    "    def __init__(self,layer_sizes):\n",
    "        self.layer_sizes = layer_sizes\n",
    "        self.n = len(layer_sizes)-1\n",
    "        \n",
    "    def error(self,predicted, actual):\n",
    "        error = actual-predicted\n",
    "        return error @ error\n",
    "    \n",
    "    def activation(self,x):\n",
    "        return 1/(1+np.exp(-x))\n",
    "    \n",
    "    def d_activation(self,x):\n",
    "         return x * (1 - x)\n",
    "    \n",
    "    def pad_ones(X):\n",
    "        pad_width = [(0,0)]*(X.ndim-1) +[(1,0)]\n",
    "        return np.pad(X,pad_width=pad_width,constant_values=1)\n",
    "    \n",
    "    def inputs(self,i):\n",
    "        return BPNN.pad_ones(self.outputs[i-1])\n",
    "    \n",
    "    def set_random_weights(self,seed=1):\n",
    "        np.random.seed(seed)\n",
    "        self.weights = [\n",
    "            np.random.random((o,i+1))\n",
    "            for i,o in zip(self.layer_sizes,self.layer_sizes[1:])\n",
    "        ]\n",
    "        self.outputs = [None]*(self.n+1)\n",
    "        self.delta = [None]*self.n\n",
    "\n",
    "    def forward_propagate(self, inputs):\n",
    "        assert (self.weights is not None),\"weights not given\"\n",
    "        self.outputs[-1] = inputs\n",
    "        for i in range(self.n):\n",
    "            self.outputs[i] = self.activation(\n",
    "                self.weights[i] @ self.inputs(i)\n",
    "            )\n",
    "        return self.outputs[-2]\n",
    "\n",
    "    def backward_propagate_error(self, expected):\n",
    "        for i in range(self.n-1, -1, -1):\n",
    "            if i == self.n-1:\n",
    "                errors = expected - self.outputs[i][1:]\n",
    "            else:\n",
    "                errors = self.weights[i+1].T[1:] @ self.delta[i+1]\n",
    "            self.delta[i] = errors * \\\n",
    "                self.d_activation(self.outputs[i])\n",
    "\n",
    "    def update_weights(self, l_rate):\n",
    "        for i in range(self.n):\n",
    "            self.weights[i] += l_rate * \\\n",
    "                self.delta[i][:, np.newaxis] @ self.inputs(i)[np.newaxis, :]\n",
    "\n",
    "    def fit(self, X_train,y_train, l_rate, n_epoch):\n",
    "        classes = np.unique(y_train)\n",
    "        expected = (y_train.reshape(-1,1) == classes).astype(np.uint8)\n",
    "        for epoch in range(n_epoch):\n",
    "            sum_error = 0\n",
    "            for i, row in enumerate(X_train):\n",
    "                outputs = self.forward_propagate(row)\n",
    "                sum_error += self.error(outputs, expected[i])\n",
    "                self.backward_propagate_error(expected[i])\n",
    "                self.update_weights(l_rate)\n",
    "            print(f'>epoch={epoch}, lrate={l_rate:.3},'\n",
    "                  f' error={sum_error:.4}')\n",
    "\n",
    "    def predict(self, inputs):\n",
    "        outputs = self.forward_propagate(inputs).argmax()\n",
    "        return outputs\n",
    "\n",
    "    def validate(self,X_test,y_test):\n",
    "        m = X_test.shape[0]\n",
    "        for i in range(m):\n",
    "            actual = self.predict(X_test[i])\n",
    "            expected = y_test[i].astype(int)\n",
    "            print(f\"Expected={expected}, Got={actual}\")"
   ]
  },
  {
   "cell_type": "markdown",
   "metadata": {},
   "source": [
    "#### Part 2 - Loading and processing dataset"
   ]
  },
  {
   "cell_type": "code",
   "execution_count": 4,
   "metadata": {},
   "outputs": [
    {
     "name": "stdout",
     "output_type": "stream",
     "text": [
      "Dataset:\n",
      "\n",
      "[[ 2.7810836   2.550537    0.        ]\n",
      " [ 1.46548937  2.36212508  0.        ]\n",
      " [ 3.39656169  4.40029353  0.        ]\n",
      " [ 1.38807019  1.85022032  0.        ]\n",
      " [ 3.06407232  3.00530597  0.        ]\n",
      " [ 7.62753121  2.75926224  1.        ]\n",
      " [ 5.33244125  2.08862677  1.        ]\n",
      " [ 6.92259672  1.77106367  1.        ]\n",
      " [ 8.67541865 -0.24206865  1.        ]\n",
      " [ 7.67375647  3.50856301  1.        ]\n",
      " [ 2.7810836   2.550537    0.        ]\n",
      " [ 1.46548937  2.36212508  0.        ]\n",
      " [ 3.39656169  4.40029353  0.        ]\n",
      " [ 1.38807019  1.85022032  0.        ]\n",
      " [ 3.06407232  3.00530597  0.        ]\n",
      " [ 7.62753121  2.75926224  1.        ]\n",
      " [ 5.33244125  2.08862677  1.        ]\n",
      " [ 6.92259672  1.77106367  1.        ]\n",
      " [ 8.67541865 -0.24206865  1.        ]\n",
      " [ 7.67375647  3.50856301  1.        ]]\n"
     ]
    }
   ],
   "source": [
    "dataset = np.array(load_yaml(\"./datasets/bpnn_dataset.yaml\"))\n",
    "print(\"Dataset:\\n\",dataset,sep=\"\\n\")\n",
    "X = dataset[:,:-1]\n",
    "y = dataset[:,-1]\n",
    "split_ratio = 0.5\n",
    "s = int(split_ratio*X.shape[0])\n",
    "X_train, X_test = X[:s],X[s:]\n",
    "y_train, y_test = y[:s],y[s:]"
   ]
  },
  {
   "cell_type": "markdown",
   "metadata": {},
   "source": [
    "#### Part 3 - Implementing BPNN"
   ]
  },
  {
   "cell_type": "code",
   "execution_count": 5,
   "metadata": {},
   "outputs": [
    {
     "name": "stdout",
     "output_type": "stream",
     "text": [
      "\n",
      "Initial Weights:\n",
      "\n",
      "[[0.15416284 0.7400497  0.26331502]\n",
      " [0.53373939 0.01457496 0.91874701]]\n",
      "[[0.90071485 0.03342143 0.95694934]\n",
      " [0.13720932 0.28382835 0.60608318]]\n",
      "\n",
      "Training:\n",
      "\n",
      ">epoch=0, lrate=0.5, error=6.816\n",
      ">epoch=1, lrate=0.5, error=6.529\n",
      ">epoch=2, lrate=0.5, error=6.317\n",
      ">epoch=3, lrate=0.5, error=6.032\n",
      ">epoch=4, lrate=0.5, error=5.494\n",
      ">epoch=5, lrate=0.5, error=4.991\n",
      ">epoch=6, lrate=0.5, error=4.585\n",
      ">epoch=7, lrate=0.5, error=4.153\n",
      ">epoch=8, lrate=0.5, error=3.688\n",
      ">epoch=9, lrate=0.5, error=3.211\n",
      ">epoch=10, lrate=0.5, error=2.745\n",
      ">epoch=11, lrate=0.5, error=2.302\n",
      ">epoch=12, lrate=0.5, error=1.893\n",
      ">epoch=13, lrate=0.5, error=1.54\n",
      ">epoch=14, lrate=0.5, error=1.25\n",
      ">epoch=15, lrate=0.5, error=1.02\n",
      ">epoch=16, lrate=0.5, error=0.84\n",
      ">epoch=17, lrate=0.5, error=0.7003\n",
      ">epoch=18, lrate=0.5, error=0.5918\n",
      ">epoch=19, lrate=0.5, error=0.507\n",
      "\n",
      "Trained Weights:\n",
      "\n",
      "[[-0.37268891  1.01813902 -1.21641517]\n",
      " [ 0.93666354 -1.57402888  2.08149948]]\n",
      "[[-0.39942069 -2.33701476  3.51542347]\n",
      " [ 0.2811999   1.28084694 -2.04728358]]\n",
      "\n",
      "Validation:\n",
      "\n",
      "Expected=0, Got=0\n",
      "Expected=0, Got=0\n",
      "Expected=0, Got=0\n",
      "Expected=0, Got=0\n",
      "Expected=0, Got=0\n",
      "Expected=1, Got=1\n",
      "Expected=1, Got=1\n",
      "Expected=1, Got=1\n",
      "Expected=1, Got=1\n",
      "Expected=1, Got=1\n"
     ]
    }
   ],
   "source": [
    "b = BPNN([2,2,2])\n",
    "b.set_random_weights(12)\n",
    "print(\"\\nInitial Weights:\\n\")\n",
    "print(*b.weights,sep=\"\\n\")\n",
    "print(\"\\nTraining:\\n\")\n",
    "b.fit(X_train,y_train,.5, 20)\n",
    "print(\"\\nTrained Weights:\\n\")\n",
    "print(*b.weights,sep=\"\\n\")\n",
    "print(\"\\nValidation:\\n\")\n",
    "b.validate(X_test,y_test)"
   ]
  },
  {
   "cell_type": "markdown",
   "metadata": {},
   "source": [
    "## b) Support Vector Machine"
   ]
  },
  {
   "cell_type": "markdown",
   "metadata": {},
   "source": [
    "### Program 1 - Implementing SVM from scratch using CVXOPT"
   ]
  },
  {
   "cell_type": "markdown",
   "metadata": {},
   "source": [
    "#### AIM\n",
    "To implement SVM from scratch using CVXOPT."
   ]
  },
  {
   "cell_type": "markdown",
   "metadata": {},
   "source": [
    "#### Formula\n",
    "##### SVM statement in dual form\n",
    "$$\n",
    "\\newcommand{\\vect}[1]{\\boldsymbol{\\mathbf{#1}}}\n",
    "\\begin{aligned}\n",
    "    & \\min_{\\vect{\\alpha}}  \\frac{1}{2}  \\vect{\\alpha}^T  \\left( \\vect{y}\\vect{y}^T \\circ (\\Phi(\\vect{X})\\Phi(\\vect{X})^T \\right)  \\vect{\\alpha} - \\vect{1}^T \\vect{\\alpha}\\\\\n",
    "s.t.&  - \\alpha_i \\leq 0 \\\\\n",
    "    & \\alpha_i \\leq C\\\\\n",
    "    & y^T \\vect{\\alpha} = 0  \n",
    "\\end{aligned}\n",
    "$$"
   ]
  },
  {
   "cell_type": "markdown",
   "metadata": {},
   "source": [
    "##### Standard form of a quadratic program\n",
    "$$\n",
    "\\begin{aligned}\n",
    "    & \\min_{\\vect{x}}  \\frac{1}{2}  \\vect{x}^T  \\vect{P}  \\vect{x} - \\vect{q}^T\\vect{x}\\\\\n",
    "s.t.&  \\vect{G}\\vect{x} \\leq \\vect{h} \\\\\n",
    "    & A \\vect{x} = \\vect{b} \n",
    "\\end{aligned}\n",
    "$$"
   ]
  },
  {
   "cell_type": "markdown",
   "metadata": {},
   "source": [
    "##### Formulization\n",
    "$$\n",
    "\\begin{align*}\n",
    "\\vect{P}&= \\vect{y}\\vect{y}^T \\circ \\Phi(\\vect{X})\\Phi(\\vect{X})^T\n",
    "& \\vect{q}&= - \\vect{1}_n\\\\\n",
    "\\vect{G}&= \\begin{bmatrix}\n",
    "    \\vect{-I}_n\\\\\n",
    "    \\vect{I}_n\n",
    "\\end{bmatrix} \n",
    "& \\vect{h}&=\\begin{bmatrix}\n",
    "    C \\cdot \\vect{1}_n^T\\\\\n",
    "    \\vect{0}_n^T\n",
    "\\end{bmatrix}\\\\\n",
    "\\vect{A} &= [\\vect{y}] \n",
    "&\\vect{b} &= [0]\\\\\n",
    "\\end{align*}\n",
    "$$"
   ]
  },
  {
   "cell_type": "markdown",
   "metadata": {},
   "source": [
    "##### Decision Rule\n",
    "$$\n",
    "\\vect{\\hat y} = \\mathrm{sign}\\left( (\\vect{\\alpha}^T \\circ \\vect{y}^T) \\Phi(\\vect{X})\\Phi(\\vect{X})^T  + b \\right) \n",
    "$$"
   ]
  },
  {
   "cell_type": "markdown",
   "metadata": {},
   "source": [
    "#### Part 1 - Defining class for SVM"
   ]
  },
  {
   "cell_type": "code",
   "execution_count": 6,
   "metadata": {},
   "outputs": [],
   "source": [
    "import numpy as np\n",
    "import pandas as pd\n",
    "\n",
    "from sklearn.model_selection import train_test_split\n",
    "from sklearn.preprocessing import StandardScaler\n",
    "from sklearn.metrics import accuracy_score\n",
    "\n",
    "from cvxopt import solvers\n",
    "from cvxopt import matrix\n",
    "\n",
    "from scipy.spatial.distance import cdist"
   ]
  },
  {
   "cell_type": "code",
   "execution_count": 7,
   "metadata": {},
   "outputs": [],
   "source": [
    "class SVM:\n",
    "    def __init__(self,C,kernel):\n",
    "        self.C = C\n",
    "        self.kernel = kernel\n",
    "\n",
    "    def fit(self,X_train,y_train):\n",
    "        self.scaler = StandardScaler()\n",
    "        self.X = self.scaler.fit_transform(X_train)\n",
    "        self.y = y_train.reshape(-1,1)\n",
    "        \n",
    "        n=self.X.shape[0]\n",
    "        I_n = np.eye(n)\n",
    "        P=(self.y@self.y.T)*self.kernel(self.X,self.X)\n",
    "        q=np.full(n,-1)\n",
    "        G=np.vstack((I_n,-1*I_n))\n",
    "        h=np.hstack((np.full(n,self.C),np.zeros(n)))\n",
    "        A=y_train.reshape(1,-1)\n",
    "        b=np.zeros(1)\n",
    "\n",
    "        P,q,G,h,A,b = map(lambda x : matrix(x,tc=\"d\"),(P,q,G,h,A,b))\n",
    "\n",
    "        solution = solvers.qp(P, q, G, h, A, b)\n",
    "        self.a = np.asarray(solution['x']).squeeze()\n",
    "        \n",
    "        support_indices = np.logical_and(self.a>=1e-10, self.a<self.C)\n",
    "        X_S = self.X[support_indices]\n",
    "        self.b = np.mean(self.y - self.a*self.y.T @ self.kernel(self.X, X_S))\n",
    "\n",
    "    def predict(self,X_test):\n",
    "        X_test=self.scaler.transform(X_test)\n",
    "        return np.sign(self.a*self.y.T @ self.kernel(self.X, X_test) + self.b)\n"
   ]
  },
  {
   "cell_type": "markdown",
   "metadata": {},
   "source": [
    "#### Part 2 - Defining Radial Basis Function(RBF) Kernel"
   ]
  },
  {
   "cell_type": "code",
   "execution_count": 8,
   "metadata": {},
   "outputs": [],
   "source": [
    "def rbf_kernel(X1,X2,sigma):\n",
    "    return np.exp(-cdist(X1, X2, 'sqeuclidean') / (2*sigma**2))"
   ]
  },
  {
   "cell_type": "markdown",
   "metadata": {},
   "source": [
    "#### Part 3 - Loading and Processing Dataset"
   ]
  },
  {
   "cell_type": "code",
   "execution_count": 9,
   "metadata": {},
   "outputs": [],
   "source": [
    "# Processed titanic dataset from Exercise 2\n",
    "titanic_df = pd.read_csv('datasets/titanic_processed.csv')\n",
    "X = titanic_df.drop('Survived',axis = 1).values\n",
    "y = titanic_df['Survived'].values\n",
    "y[y==0] = -1\n",
    "X_train, X_test, y_train, y_test = train_test_split(X, y, test_size=0.2, random_state=0)"
   ]
  },
  {
   "cell_type": "markdown",
   "metadata": {},
   "source": [
    "#### Part 4 - Implementing SVM"
   ]
  },
  {
   "cell_type": "code",
   "execution_count": 10,
   "metadata": {},
   "outputs": [
    {
     "name": "stdout",
     "output_type": "stream",
     "text": [
      "     pcost       dcost       gap    pres   dres\n",
      " 0: -2.0672e+02 -6.0489e+02  6e+03  8e+00  1e-15\n",
      " 1: -1.0821e+02 -5.1411e+02  6e+02  3e-01  1e-15\n",
      " 2: -1.0989e+02 -1.6099e+02  5e+01  9e-03  2e-15\n",
      " 3: -1.2250e+02 -1.3135e+02  9e+00  1e-03  1e-15\n",
      " 4: -1.2441e+02 -1.2830e+02  4e+00  4e-04  1e-15\n",
      " 5: -1.2525e+02 -1.2680e+02  2e+00  1e-04  1e-15\n",
      " 6: -1.2558e+02 -1.2625e+02  7e-01  7e-06  1e-15\n",
      " 7: -1.2572e+02 -1.2596e+02  2e-01  9e-07  1e-15\n",
      " 8: -1.2577e+02 -1.2588e+02  1e-01  4e-07  1e-15\n",
      " 9: -1.2578e+02 -1.2586e+02  8e-02  2e-07  9e-16\n",
      "10: -1.2580e+02 -1.2582e+02  2e-02  2e-08  1e-15\n",
      "11: -1.2581e+02 -1.2581e+02  6e-03  6e-09  1e-15\n",
      "12: -1.2581e+02 -1.2581e+02  3e-03  1e-09  1e-15\n",
      "13: -1.2581e+02 -1.2581e+02  9e-04  3e-10  9e-16\n",
      "14: -1.2581e+02 -1.2581e+02  3e-04  9e-11  9e-16\n",
      "15: -1.2581e+02 -1.2581e+02  2e-05  3e-15  1e-15\n",
      "Optimal solution found.\n",
      "Accuracy of the classifer: 73.03%\n"
     ]
    }
   ],
   "source": [
    "from functools import partial \n",
    "C = .35\n",
    "sigma = .5\n",
    "kernel = partial(rbf_kernel,sigma=sigma)\n",
    "\n",
    "svm_classifier = SVM(C,kernel)\n",
    "svm_classifier.fit(X_train,y_train)\n",
    "y_pred = svm_classifier.predict(X_test)\n",
    "print(f'Accuracy of the classifer: {(y_test == y_pred).mean()*100:.2f}%')\n"
   ]
  }
 ],
 "metadata": {
  "interpreter": {
   "hash": "7023248c40563a766f3ae9a0fc81476c1e46277ee22e162240a9cb41b674a272"
  },
  "kernelspec": {
   "display_name": "Python 3",
   "language": "python",
   "name": "python3"
  },
  "language_info": {
   "codemirror_mode": {
    "name": "ipython",
    "version": 3
   },
   "file_extension": ".py",
   "mimetype": "text/x-python",
   "name": "python",
   "nbconvert_exporter": "python",
   "pygments_lexer": "ipython3",
   "version": "3.8.10"
  }
 },
 "nbformat": 4,
 "nbformat_minor": 4
}
