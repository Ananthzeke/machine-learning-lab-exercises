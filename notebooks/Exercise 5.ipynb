{
 "cells": [
  {
   "cell_type": "markdown",
   "metadata": {},
   "source": [
    "# Exercise 5 - Classification Algorithms (BBNN & SVM)"
   ]
  },
  {
   "cell_type": "markdown",
   "metadata": {},
   "source": [
    "## a) Back Propogation Neural Network"
   ]
  },
  {
   "cell_type": "markdown",
   "metadata": {
    "tags": []
   },
   "source": [
    "### Program 1 - Implementing BPNN from scratch"
   ]
  },
  {
   "cell_type": "markdown",
   "metadata": {},
   "source": [
    "#### AIM\n",
    "To implement Back Propogation Neural Network from scratch in python."
   ]
  },
  {
   "cell_type": "markdown",
   "metadata": {},
   "source": [
    "#### ALGORITHM\n",
    "##### Forward propogation\n",
    "###### Single input\n",
    "$$\n",
    "\\newcommand{\\vect}[1]{\\boldsymbol{\\mathbf{#1}}}\n",
    "\\begin{align*}\n",
    "\\vect{o}_{-1} &= \\vect{x}_i\\\\\n",
    "\\vect{o}_k &= \\vect{\\phi}_k\\left(\\vect{W}_k[1 \\ \\vect{o}_{k-1}]\\right) &\\text{for }k = 0,..,n-1\n",
    "\\end{align*}\n",
    "$$\n",
    "###### Batch input\n",
    "$$\n",
    "\\newcommand{\\vect}[1]{\\boldsymbol{\\mathbf{#1}}}\n",
    "\\begin{align*}\n",
    "\\vect{O}_{-1} &= \\vect{X}\\\\\n",
    "\\vect{O}_k &= \\vect{\\phi}_k\\left([\\vect{1} \\ \\vect{O}_{k-1}] \\vect{W}_k^T \\right) &\\text{for }k = 0,..,n-1\n",
    "\\end{align*}\n",
    "$$"
   ]
  },
  {
   "cell_type": "markdown",
   "metadata": {},
   "source": [
    "##### Backward Propogation\n",
    "###### Error\n",
    "$$\n",
    "E = \\frac{1}{2}||\\vect{o}_{n-1}-\\vect{t}||_2\n",
    "$$"
   ]
  },
  {
   "cell_type": "markdown",
   "metadata": {},
   "source": [
    "###### Single input\n",
    "$$\n",
    "\\newcommand{\\diff}[2]{\\frac{\\mathrm{d}{#1}}{\\mathrm{d}{#2}}}\n",
    "\\vect{\\delta}_{k} = \\diff{E}{\\vect{o}_{k}}\\circ \\vect{\\phi}'(\\text{net}_{k} )\\\\\n",
    "\\diff{E}{\\vect{o}_{k}} = \\begin{cases}\n",
    "(\\vect{o}_{n-1}-\\vect{t}) & k=n-1\\\\\n",
    "\\vect{W}^T_{k+1}\\vect{o}_{k+1} & k = n-2,...,-1 \\\\\n",
    "\\end{cases}\\\\\n",
    "\\vect{\\phi}'(\\text{net}_{k}) = \\vect{o}_k \\circ (\\vect{1}-\\vect{o}_k)  \\text{ for }   k = n-1,...,0 \\\\\n",
    "$$"
   ]
  },
  {
   "cell_type": "markdown",
   "metadata": {},
   "source": [
    "###### Weight Update\n",
    "$$\n",
    "\\vect{W}_k := \\vect{W}_k - \\alpha \\diff{E}{\\vect{W}_k}\\\\\n",
    "\\diff{E}{\\vect{W}_k} = \\vect{\\delta}_{k}[1 \\ \\vect{o}_{k-1}]^T\\ \\text{for } k = n-1,...,0 \\\\\n",
    "$$"
   ]
  },
  {
   "cell_type": "markdown",
   "metadata": {
    "tags": []
   },
   "source": [
    "###### Batch input\n",
    "$$\n",
    "\\newcommand{\\diff}[2]{\\frac{\\mathrm{d}{#1}}{\\mathrm{d}{#2}}}\n",
    "\\vect{\\Delta}_{k} = \\diff{E}{\\vect{O}_{k}}\\circ \\vect{\\phi}'(\\text{net}_{k} )\\\\\n",
    "\\diff{E}{\\vect{O}_{k}} = \\begin{cases}\n",
    "(\\vect{O}_{n-1}-\\vect{t}) & k=n-1\\\\\n",
    "\\vect{O}_{k+1} \\vect{W}_{k+1} & k = n-2,...,-1 \\\\\n",
    "\\end{cases}\\\\\n",
    "\\vect{\\phi}'(\\text{net}_{k}) = \\vect{O}_k \\circ (\\vect{1}-\\vect{O}_k)  \\text{ for }   k = n-1,...,0 \\\\\n",
    "$$"
   ]
  },
  {
   "cell_type": "markdown",
   "metadata": {},
   "source": [
    "###### Weight Update\n",
    "$$\n",
    "\\vect{W}_k := \\vect{W}_k - \\alpha \\diff{E}{\\vect{W}_k}\\\\\n",
    "\\diff{E}{\\vect{W}_k} = \\vect{\\Delta}_{k}^T[1 \\ \\vect{O}_{k-1}]\\ \\text{for } k = n-1,...,0 \\\\\n",
    "$$"
   ]
  },
  {
   "cell_type": "markdown",
   "metadata": {},
   "source": [
    "where  \n",
    "$\\vect{x}_k$ - the input vector  \n",
    "$\\vect{o}_k$ - the output vector of the $k$th layer  \n",
    "$\\vect{\\delta}_k$ - the delta vector of the $k$th layer  \n",
    "$\\vect{W}_k$ - the weight matrix of the $k$th layer  \n",
    "$\\vect{X}_k$ - the batch input matfix  \n",
    "$\\vect{O}_k$ - the batch output matrix of the $k$th layer  \n",
    "$\\vect{\\Delta}_k$ - the batch delta matrix of the $k$th layer  "
   ]
  },
  {
   "cell_type": "markdown",
   "metadata": {},
   "source": [
    "#### Part 1 - Defining class for BPNN"
   ]
  },
  {
   "cell_type": "code",
   "execution_count": 1,
   "metadata": {},
   "outputs": [],
   "source": [
    "import numpy as np\n",
    "import pandas as pd"
   ]
  },
  {
   "cell_type": "code",
   "execution_count": 2,
   "metadata": {},
   "outputs": [],
   "source": [
    "class BPNN:\n",
    "    def __init__(self,layer_sizes):\n",
    "        self.layer_sizes = layer_sizes\n",
    "        self.n = len(layer_sizes)-1\n",
    "        self.outputs = [None]*(self.n+1)\n",
    "        self.delta = [None]*self.n\n",
    "        \n",
    "    def activation(self,x):\n",
    "        return 1/(1+np.exp(-x))\n",
    "    \n",
    "    def d_activation(self,x):\n",
    "         return x * (1 - x)\n",
    "    \n",
    "    def pad_ones(X):\n",
    "        pad_width = [(1,0),(0,0)]\n",
    "        return np.pad(X,pad_width=pad_width,constant_values=1)\n",
    "    \n",
    "    def inputs(self,i):\n",
    "        return BPNN.pad_ones(self.outputs[i-1])\n",
    "    \n",
    "    def set_random_weights(self,seed=1):\n",
    "        np.random.seed(seed)\n",
    "        self.weights = [\n",
    "            np.random.random((o,i+1))\n",
    "            for i,o in zip(self.layer_sizes,self.layer_sizes[1:])\n",
    "        ]\n",
    "\n",
    "    def forward_propagate(self, inputs):\n",
    "        assert (self.weights is not None),\"weights not given\"\n",
    "        self.outputs[-1] = inputs\n",
    "        for i in range(self.n):\n",
    "            self.outputs[i] = self.activation(\n",
    "                self.weights[i] @ self.inputs(i)\n",
    "            )\n",
    "        return self.outputs[self.n-1]\n",
    "    \n",
    "    def backward_propagate_error(self, expected):\n",
    "        for i in range(self.n-1, -1, -1):\n",
    "            if i == self.n-1:\n",
    "                errors = self.outputs[i] - expected\n",
    "            else:\n",
    "                errors = self.weights[i+1][:,1:].T @ self.delta[i+1] \n",
    "            self.delta[i] = errors * self.d_activation(self.outputs[i])\n",
    "\n",
    "    def update_weights(self, l_rate):\n",
    "        for i in range(self.n):\n",
    "            self.weights[i] -= l_rate * self.delta[i] @ self.inputs(i).T\n",
    "        \n",
    "    def error(self,actual,predicted):\n",
    "        error = actual-predicted\n",
    "        return np.sum(error * error)\n",
    "    \n",
    "    def fit(self, X_train,y_train, l_rate, n_epoch,batch_size=10,verbose=True):\n",
    "        m = X_train.shape[0]\n",
    "        input_matrix = X_train.T\n",
    "        classes = np.unique(y_train)\n",
    "        target_matrix = (y_train.reshape(-1,1) == classes).T\n",
    "        \n",
    "        for epoch in range(n_epoch):\n",
    "            sum_error = 0\n",
    "            fs = range(m+batch_size)\n",
    "            for f,t in zip(fs,fs[1:]):\n",
    "                outputs = self.forward_propagate(input_matrix[:,f:t])\n",
    "                sum_error += self.error(target_matrix[:,f:t],outputs)\n",
    "                self.backward_propagate_error(target_matrix[:,f:t])\n",
    "                self.update_weights(l_rate)\n",
    "            if verbose:\n",
    "                print(f'>epoch={epoch}, lrate={l_rate:.3},'\n",
    "                      f' error={sum_error/m:.5f}')\n",
    "\n",
    "    def predict(self, inputs):\n",
    "        outputs = self.forward_propagate(inputs.T).T.argmax(axis=-1)\n",
    "        return outputs\n",
    "\n",
    "    def accuracy(self,X_test,y_test):\n",
    "        return (self.predict(X_test)==y_test).mean()"
   ]
  },
  {
   "cell_type": "markdown",
   "metadata": {},
   "source": [
    "#### Part 2 - Loading and processing dataset"
   ]
  },
  {
   "cell_type": "code",
   "execution_count": 3,
   "metadata": {},
   "outputs": [],
   "source": [
    "titanic_df = pd.read_csv(\"datasets/titanic_processed.csv\")\n",
    "X = titanic_df.drop('Survived',axis = 1).values\n",
    "y = titanic_df['Survived'].values\n",
    "split_ratio = 0.8\n",
    "s = int(split_ratio*X.shape[0])\n",
    "X_train, X_test = X[:s],X[s:]\n",
    "y_train, y_test = y[:s],y[s:]"
   ]
  },
  {
   "cell_type": "markdown",
   "metadata": {},
   "source": [
    "#### Part 3 - Implementing BPNN"
   ]
  },
  {
   "cell_type": "code",
   "execution_count": 4,
   "metadata": {},
   "outputs": [
    {
     "name": "stdout",
     "output_type": "stream",
     "text": [
      "\n",
      "Initial Weights:\n",
      "\n",
      "[[0.77132064 0.02075195 0.63364823 0.74880388 0.49850701 0.22479665\n",
      "  0.19806286 0.76053071 0.16911084]\n",
      " [0.08833981 0.68535982 0.95339335 0.00394827 0.51219226 0.81262096\n",
      "  0.61252607 0.72175532 0.29187607]\n",
      " [0.91777412 0.71457578 0.54254437 0.14217005 0.37334076 0.67413362\n",
      "  0.44183317 0.43401399 0.61776698]\n",
      " [0.51313824 0.65039718 0.60103895 0.8052232  0.52164715 0.90864888\n",
      "  0.31923609 0.09045935 0.30070006]\n",
      " [0.11398436 0.82868133 0.04689632 0.62628715 0.54758616 0.819287\n",
      "  0.19894754 0.8568503  0.35165264]]\n",
      "[[0.75464769 0.29596171 0.88393648 0.32551164 0.1650159  0.39252924]\n",
      " [0.09346037 0.82110566 0.15115202 0.38411445 0.94426071 0.98762547]]\n",
      "\n",
      "Training:\n",
      "\n",
      ">epoch=0, lrate=0.6, error=0.46802\n",
      ">epoch=1, lrate=0.6, error=0.35502\n",
      ">epoch=2, lrate=0.6, error=0.33713\n",
      ">epoch=3, lrate=0.6, error=0.32764\n",
      ">epoch=4, lrate=0.6, error=0.32247\n",
      ">epoch=5, lrate=0.6, error=0.31875\n",
      ">epoch=6, lrate=0.6, error=0.31574\n",
      ">epoch=7, lrate=0.6, error=0.31327\n",
      ">epoch=8, lrate=0.6, error=0.31156\n",
      ">epoch=9, lrate=0.6, error=0.31018\n",
      ">epoch=10, lrate=0.6, error=0.30894\n",
      ">epoch=11, lrate=0.6, error=0.30782\n",
      ">epoch=12, lrate=0.6, error=0.30681\n",
      ">epoch=13, lrate=0.6, error=0.30590\n",
      ">epoch=14, lrate=0.6, error=0.30512\n",
      ">epoch=15, lrate=0.6, error=0.30444\n",
      ">epoch=16, lrate=0.6, error=0.30386\n",
      ">epoch=17, lrate=0.6, error=0.30337\n",
      ">epoch=18, lrate=0.6, error=0.30294\n",
      ">epoch=19, lrate=0.6, error=0.30255\n",
      "\n",
      "Trained Weights:\n",
      "\n",
      "[[ 4.62148366 -1.94542157 -0.73217243  2.47317314  4.33271411  0.53170333\n",
      "  -3.14691812  1.85008445 -1.06309986]\n",
      " [-9.20158004  2.44352357  2.68045575  1.47086855  0.76602896 -0.66220004\n",
      "   6.74110961 -1.85017917 -0.73249954]\n",
      " [ 0.80775089 -0.93707482 -0.34339408 -0.01621755 -0.51781678  0.66038234\n",
      "  -0.7929472  -0.01900993 -0.01110114]\n",
      " [ 1.22320048 -1.01179186  0.20298842  0.12175711 -0.72579212  1.10796706\n",
      "  -1.29612195 -0.2935108  -0.25058337]\n",
      " [ 0.6940289  -0.98471439 -0.39101813  0.05200077 -0.45007956  0.96397307\n",
      "  -1.16883579  0.43649273 -0.06161509]]\n",
      "[[-0.43895266 -1.19747522  2.60090266 -1.30948215 -1.38342881 -1.19810818]\n",
      " [ 0.43301382  1.19335744 -2.5920843   1.16350197  1.42307884  1.35229869]]\n",
      "\n",
      "Evaluation:\n",
      "Acuracy of the classifier:  0.8202247191011236\n"
     ]
    }
   ],
   "source": [
    "b = BPNN([8,5,2])\n",
    "b.set_random_weights(10)\n",
    "print(\"\\nInitial Weights:\\n\")\n",
    "print(*b.weights,sep=\"\\n\")\n",
    "print(\"\\nTraining:\\n\")\n",
    "b.fit(X_train,y_train,l_rate=.6, n_epoch=20, batch_size=25)\n",
    "print(\"\\nTrained Weights:\\n\")\n",
    "print(*b.weights,sep=\"\\n\")\n",
    "print(\"\\nEvaluation:\")\n",
    "print(\"Acuracy of the classifier: \",b.accuracy(X_test,y_test))"
   ]
  },
  {
   "cell_type": "markdown",
   "metadata": {},
   "source": [
    "## b) Support Vector Machine"
   ]
  },
  {
   "cell_type": "markdown",
   "metadata": {},
   "source": [
    "### Program 1 - Implementing SVM from scratch using CVXOPT"
   ]
  },
  {
   "cell_type": "markdown",
   "metadata": {},
   "source": [
    "#### AIM\n",
    "To implement SVM from scratch using CVXOPT."
   ]
  },
  {
   "cell_type": "markdown",
   "metadata": {},
   "source": [
    "#### Formula\n",
    "##### SVM statement in dual form\n",
    "$$\n",
    "\\newcommand{\\vect}[1]{\\boldsymbol{\\mathbf{#1}}}\n",
    "\\begin{aligned}\n",
    "    & \\min_{\\vect{\\alpha}}  \\frac{1}{2}  \\vect{\\alpha}^T  \\left( \\vect{y}\\vect{y}^T \\circ (\\Phi(\\vect{X})\\Phi(\\vect{X})^T \\right)  \\vect{\\alpha} - \\vect{1}^T \\vect{\\alpha}\\\\\n",
    "s.t.&  - \\alpha_i \\leq 0 \\\\\n",
    "    & \\alpha_i \\leq C\\\\\n",
    "    & y^T \\vect{\\alpha} = 0  \n",
    "\\end{aligned}\n",
    "$$"
   ]
  },
  {
   "cell_type": "markdown",
   "metadata": {},
   "source": [
    "##### Standard form of a quadratic program\n",
    "$$\n",
    "\\begin{aligned}\n",
    "    & \\min_{\\vect{x}}  \\frac{1}{2}  \\vect{x}^T  \\vect{P}  \\vect{x} - \\vect{q}^T\\vect{x}\\\\\n",
    "s.t.&  \\vect{G}\\vect{x} \\leq \\vect{h} \\\\\n",
    "    & A \\vect{x} = \\vect{b} \n",
    "\\end{aligned}\n",
    "$$"
   ]
  },
  {
   "cell_type": "markdown",
   "metadata": {},
   "source": [
    "##### Formulization\n",
    "$$\n",
    "\\begin{align*}\n",
    "\\vect{P}&= \\vect{y}\\vect{y}^T \\circ \\Phi(\\vect{X})\\Phi(\\vect{X})^T\n",
    "& \\vect{q}&= - \\vect{1}_n\\\\\n",
    "\\vect{G}&= \\begin{bmatrix}\n",
    "    \\vect{-I}_n\\\\\n",
    "    \\vect{I}_n\n",
    "\\end{bmatrix} \n",
    "& \\vect{h}&=\\begin{bmatrix}\n",
    "    C \\cdot \\vect{1}_n^T\\\\\n",
    "    \\vect{0}_n^T\n",
    "\\end{bmatrix}\\\\\n",
    "\\vect{A} &= [\\vect{y}] \n",
    "&\\vect{b} &= [0]\\\\\n",
    "\\end{align*}\n",
    "$$"
   ]
  },
  {
   "cell_type": "markdown",
   "metadata": {},
   "source": [
    "##### Decision Rule\n",
    "$$\n",
    "\\vect{\\hat y} = \\mathrm{sign}\\left( (\\vect{\\alpha}^T \\circ \\vect{y}^T) \\Phi(\\vect{X})\\Phi(\\vect{X})^T  + b \\right) \n",
    "$$"
   ]
  },
  {
   "cell_type": "markdown",
   "metadata": {},
   "source": [
    "#### Part 1 - Defining class for SVM"
   ]
  },
  {
   "cell_type": "code",
   "execution_count": 5,
   "metadata": {},
   "outputs": [],
   "source": [
    "import numpy as np\n",
    "import pandas as pd\n",
    "\n",
    "from sklearn.model_selection import train_test_split\n",
    "from sklearn.preprocessing import StandardScaler\n",
    "from sklearn.metrics import accuracy_score\n",
    "\n",
    "from cvxopt import solvers\n",
    "from cvxopt import matrix\n",
    "\n",
    "from scipy.spatial.distance import cdist"
   ]
  },
  {
   "cell_type": "code",
   "execution_count": 6,
   "metadata": {},
   "outputs": [],
   "source": [
    "class SVM:\n",
    "    def __init__(self,C,kernel):\n",
    "        self.C = C\n",
    "        self.kernel = kernel\n",
    "\n",
    "    def fit(self,X_train,y_train):\n",
    "        self.scaler = StandardScaler()\n",
    "        self.X = self.scaler.fit_transform(X_train)\n",
    "        self.y = y_train.reshape(-1,1)\n",
    "        \n",
    "        n=self.X.shape[0]\n",
    "        I_n = np.eye(n)\n",
    "        P=(self.y@self.y.T)*self.kernel(self.X,self.X)\n",
    "        q=np.full(n,-1)\n",
    "        G=np.vstack((I_n,-1*I_n))\n",
    "        h=np.hstack((np.full(n,self.C),np.zeros(n)))\n",
    "        A=y_train.reshape(1,-1)\n",
    "        b=np.zeros(1)\n",
    "\n",
    "        P,q,G,h,A,b = map(lambda x : matrix(x,tc=\"d\"),(P,q,G,h,A,b))\n",
    "\n",
    "        solution = solvers.qp(P, q, G, h, A, b)\n",
    "        self.a = np.asarray(solution['x']).squeeze()\n",
    "        \n",
    "        support_indices = np.logical_and(self.a>=1e-10, self.a<self.C)\n",
    "        X_S = self.X[support_indices]\n",
    "        self.b = np.mean(self.y - self.a*self.y.T @ self.kernel(self.X, X_S))\n",
    "\n",
    "    def predict(self,X_test):\n",
    "        X_test=self.scaler.transform(X_test)\n",
    "        return np.sign(self.a*self.y.T @ self.kernel(self.X, X_test) + self.b)\n"
   ]
  },
  {
   "cell_type": "markdown",
   "metadata": {},
   "source": [
    "#### Part 2 - Defining Radial Basis Function(RBF) Kernel"
   ]
  },
  {
   "cell_type": "code",
   "execution_count": 7,
   "metadata": {},
   "outputs": [],
   "source": [
    "def rbf_kernel(X1,X2,sigma):\n",
    "    return np.exp(-cdist(X1, X2, 'sqeuclidean') / (2*sigma**2))"
   ]
  },
  {
   "cell_type": "markdown",
   "metadata": {},
   "source": [
    "#### Part 3 - Loading and Processing Dataset"
   ]
  },
  {
   "cell_type": "code",
   "execution_count": 8,
   "metadata": {},
   "outputs": [],
   "source": [
    "titanic_df = pd.read_csv('datasets/titanic_processed.csv')\n",
    "X = titanic_df.drop('Survived',axis = 1).values\n",
    "y = titanic_df['Survived'].values\n",
    "y[y==0] = -1\n",
    "X_train, X_test, y_train, y_test = train_test_split(X, y, test_size=0.2, random_state=0)"
   ]
  },
  {
   "cell_type": "markdown",
   "metadata": {},
   "source": [
    "#### Part 4 - Implementing SVM"
   ]
  },
  {
   "cell_type": "code",
   "execution_count": 9,
   "metadata": {},
   "outputs": [
    {
     "name": "stdout",
     "output_type": "stream",
     "text": [
      "     pcost       dcost       gap    pres   dres\n",
      " 0: -2.0672e+02 -6.0489e+02  6e+03  8e+00  1e-15\n",
      " 1: -1.0821e+02 -5.1411e+02  6e+02  3e-01  1e-15\n",
      " 2: -1.0989e+02 -1.6099e+02  5e+01  9e-03  2e-15\n",
      " 3: -1.2250e+02 -1.3135e+02  9e+00  1e-03  1e-15\n",
      " 4: -1.2441e+02 -1.2830e+02  4e+00  4e-04  1e-15\n",
      " 5: -1.2525e+02 -1.2680e+02  2e+00  1e-04  1e-15\n",
      " 6: -1.2558e+02 -1.2625e+02  7e-01  7e-06  1e-15\n",
      " 7: -1.2572e+02 -1.2596e+02  2e-01  9e-07  1e-15\n",
      " 8: -1.2577e+02 -1.2588e+02  1e-01  4e-07  1e-15\n",
      " 9: -1.2578e+02 -1.2586e+02  8e-02  2e-07  9e-16\n",
      "10: -1.2580e+02 -1.2582e+02  2e-02  2e-08  1e-15\n",
      "11: -1.2581e+02 -1.2581e+02  6e-03  6e-09  1e-15\n",
      "12: -1.2581e+02 -1.2581e+02  3e-03  1e-09  1e-15\n",
      "13: -1.2581e+02 -1.2581e+02  9e-04  3e-10  9e-16\n",
      "14: -1.2581e+02 -1.2581e+02  3e-04  9e-11  1e-15\n",
      "15: -1.2581e+02 -1.2581e+02  2e-05  4e-15  1e-15\n",
      "Optimal solution found.\n",
      "Accuracy of the classifer: 73.03%\n"
     ]
    }
   ],
   "source": [
    "from functools import partial \n",
    "C = .35\n",
    "sigma = .5\n",
    "kernel = partial(rbf_kernel,sigma=sigma)\n",
    "\n",
    "svm_classifier = SVM(C,kernel)\n",
    "svm_classifier.fit(X_train,y_train)\n",
    "y_pred = svm_classifier.predict(X_test)\n",
    "print(f'Accuracy of the classifer: {(y_test == y_pred).mean()*100:.2f}%')\n"
   ]
  }
 ],
 "metadata": {
  "interpreter": {
   "hash": "7023248c40563a766f3ae9a0fc81476c1e46277ee22e162240a9cb41b674a272"
  },
  "kernelspec": {
   "display_name": "Python 3",
   "language": "python",
   "name": "python3"
  },
  "language_info": {
   "codemirror_mode": {
    "name": "ipython",
    "version": 3
   },
   "file_extension": ".py",
   "mimetype": "text/x-python",
   "name": "python",
   "nbconvert_exporter": "python",
   "pygments_lexer": "ipython3",
   "version": "3.8.10"
  }
 },
 "nbformat": 4,
 "nbformat_minor": 4
}
