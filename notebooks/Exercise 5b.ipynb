{
 "cells": [
  {
   "cell_type": "code",
   "execution_count": 2,
   "metadata": {},
   "outputs": [],
   "source": [
    "import numpy as np\n",
    "import pandas as pd\n",
    "\n",
    "from sklearn.model_selection import train_test_split\n",
    "from sklearn.preprocessing import StandardScaler\n",
    "from sklearn.metrics import accuracy_score\n",
    "\n",
    "from cvxopt import solvers\n",
    "from cvxopt import matrix\n",
    "\n",
    "from scipy.spatial.distance import cdist\n",
    "\n",
    "# RBF KERNEL:\n",
    "def getRBFKernelMatrix(X1,X2,sigma):\n",
    "    return np.exp(-cdist(X1, X2, 'sqeuclidean') / (2*sigma**2))"
   ]
  },
  {
   "cell_type": "code",
   "execution_count": 3,
   "metadata": {},
   "outputs": [],
   "source": [
    "# Processed titanic dataset from Exercise 2\n",
    "titanic_df = pd.read_csv('datasets/titanic_processed.csv')\n",
    "X = titanic_df.drop('Survived', 1).values\n",
    "y = titanic_df['Survived'].values\n",
    "y[y==0] = -1\n",
    "X_train, X_test, y_train, y_test = train_test_split(X, y, test_size=0.2, random_state=0)\n",
    "\n",
    "sc = StandardScaler()\n",
    "X_train = sc.fit_transform(X_train)\n",
    "X_test = sc.transform(X_test)"
   ]
  },
  {
   "cell_type": "code",
   "execution_count": 8,
   "metadata": {},
   "outputs": [
    {
     "name": "stdout",
     "output_type": "stream",
     "text": [
      "     pcost       dcost       gap    pres   dres\n",
      " 0: -7.8006e+01 -2.9033e+01  3e+03  5e+01  4e-16\n",
      " 1: -3.0075e+01 -7.6546e+00  2e+02  4e+00  5e-16\n",
      " 2: -2.5655e+00 -1.5058e+00  1e+01  2e-01  1e-15\n",
      " 3: -5.5347e-01 -1.2688e+00  9e-01  3e-03  1e-15\n",
      " 4: -5.2935e-01 -5.6159e-01  3e-02  8e-05  9e-16\n",
      " 5: -5.3103e-01 -5.3768e-01  7e-03  6e-06  3e-16\n",
      " 6: -5.3223e-01 -5.3401e-01  2e-03  1e-06  3e-16\n",
      " 7: -5.3267e-01 -5.3302e-01  4e-04  1e-07  3e-16\n",
      " 8: -5.3276e-01 -5.3288e-01  1e-04  2e-08  3e-16\n",
      " 9: -5.3279e-01 -5.3284e-01  5e-05  5e-09  3e-16\n",
      "10: -5.3280e-01 -5.3283e-01  3e-05  1e-09  3e-16\n",
      "11: -5.3280e-01 -5.3282e-01  2e-05  6e-10  3e-16\n",
      "12: -5.3281e-01 -5.3281e-01  5e-06  9e-18  3e-16\n",
      "13: -5.3281e-01 -5.3281e-01  2e-06  5e-18  3e-16\n",
      "14: -5.3281e-01 -5.3281e-01  8e-07  5e-18  3e-16\n",
      "15: -5.3281e-01 -5.3281e-01  3e-07  6e-18  3e-16\n",
      "Optimal solution found.\n"
     ]
    }
   ],
   "source": [
    "sigma=.5\n",
    "C=.001\n",
    "n=X_train.shape[0]\n",
    "I_n = np.eye(n)\n",
    "X_dash = X_train * y_train.reshape(-1,1)\n",
    "P=getRBFKernelMatrix(X_dash,X_dash,sigma)\n",
    "q=np.full(n,-1)\n",
    "G=np.vstack((I_n,-1*I_n))\n",
    "h=np.hstack((np.full(n,C),np.zeros(n)))\n",
    "A=y_train.reshape(1,-1)\n",
    "b=np.zeros(1)\n",
    "\n",
    "P,q,G,h,A,b = map(lambda x : matrix(x,tc=\"d\"),(P,q,G,h,A,b))\n",
    "\n",
    "a = solvers.qp(P, q, G, h, A, b)\n",
    "a = np.asarray(a['x']).squeeze()"
   ]
  },
  {
   "cell_type": "code",
   "execution_count": 9,
   "metadata": {},
   "outputs": [
    {
     "name": "stdout",
     "output_type": "stream",
     "text": [
      "Accuracy: 58.99\n"
     ]
    }
   ],
   "source": [
    "idx = np.logical_and(a>=1e-10,  a<C)\n",
    "Xy = X_train * y_train.reshape(-1,1)\n",
    "w0 = np.mean((y_train - getRBFKernelMatrix(Xy,X_train,sigma) @ a)[idx] )\n",
    "y_pred = np.sign(getRBFKernelMatrix(X_test,Xy,sigma).dot(a)+w0)\n",
    "print(f'Accuracy: {accuracy_score(y_test, y_pred)*100:.2f}')"
   ]
  },
  {
   "cell_type": "markdown",
   "metadata": {},
   "source": [
    "$$\\newcommand {\\norm}[1] {\\lVert{#1}\\rVert}$$\n",
    "$$\n",
    "\\min \\frac{1}{2}\\norm{w}_2^2+C\\sum_{i=1}^{n} \\xi_i\\\\\n",
    "s.t. y_i(w^Tx_i−b)≥1−\\xi i,\\xi i≥0,∀i\n",
    "$$\n"
   ]
  },
  {
   "cell_type": "markdown",
   "metadata": {},
   "source": [
    "$$\\norm{W}$$"
   ]
  },
  {
   "cell_type": "code",
   "execution_count": null,
   "metadata": {},
   "outputs": [],
   "source": []
  }
 ],
 "metadata": {
  "kernelspec": {
   "display_name": "Python 3.8.3 64-bit ('test': conda)",
   "language": "python",
   "name": "python38364bittestcondaeacc9aeeb2cc47fcad4d66ae875066bb"
  },
  "language_info": {
   "codemirror_mode": {
    "name": "ipython",
    "version": 3
   },
   "file_extension": ".py",
   "mimetype": "text/x-python",
   "name": "python",
   "nbconvert_exporter": "python",
   "pygments_lexer": "ipython3",
   "version": "3.8.3"
  }
 },
 "nbformat": 4,
 "nbformat_minor": 4
}
